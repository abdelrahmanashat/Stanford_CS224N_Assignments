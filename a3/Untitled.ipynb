{
 "cells": [
  {
   "cell_type": "code",
   "execution_count": 1,
   "id": "a0eeb6eb-ffb9-4599-a913-d48f2a3c2cd8",
   "metadata": {},
   "outputs": [],
   "source": [
    "import torch\n",
    "import torch.nn as nn\n",
    "import torch.nn.functional as F"
   ]
  },
  {
   "cell_type": "code",
   "execution_count": 21,
   "id": "a04c6727-9a82-42b6-974d-57c51364697f",
   "metadata": {
    "scrolled": true
   },
   "outputs": [
    {
     "data": {
      "text/plain": [
       "Parameter containing:\n",
       "tensor([[ 0.6196, -0.4688, -0.6382, -0.4522, -0.6970,  0.0203],\n",
       "        [-0.1469,  0.6920, -0.4670,  0.7218,  0.2855, -0.1166],\n",
       "        [-0.1973,  0.0925, -0.1220,  0.1159, -0.5629,  0.3726],\n",
       "        [ 0.0055, -0.5765, -0.0812, -0.5673, -0.4707, -0.4690],\n",
       "        [ 0.5915, -0.7087,  0.6856, -0.4298, -0.1696, -0.1640]],\n",
       "       requires_grad=True)"
      ]
     },
     "execution_count": 21,
     "metadata": {},
     "output_type": "execute_result"
    }
   ],
   "source": [
    "embed_to_hidden_weight = nn.Parameter(torch.empty(5, 6))\n",
    "embed_to_hidden_bias = nn.Parameter(torch.empty(1, 6))\n",
    "nn.init.xavier_uniform_(embed_to_hidden_weight)\n"
   ]
  },
  {
   "cell_type": "code",
   "execution_count": 29,
   "id": "18d0161b-0c8b-47c0-b602-c32a59ff9591",
   "metadata": {},
   "outputs": [
    {
     "name": "stdout",
     "output_type": "stream",
     "text": [
      "tensor([[ 0.6196, -0.4688, -0.6382, -0.4522, -0.6970,  0.0203, -0.1973,  0.0925,\n",
      "         -0.1220,  0.1159, -0.5629,  0.3726, -0.1469,  0.6920, -0.4670,  0.7218,\n",
      "          0.2855, -0.1166],\n",
      "        [-0.1469,  0.6920, -0.4670,  0.7218,  0.2855, -0.1166,  0.0055, -0.5765,\n",
      "         -0.0812, -0.5673, -0.4707, -0.4690,  0.5915, -0.7087,  0.6856, -0.4298,\n",
      "         -0.1696, -0.1640]], grad_fn=<ViewBackward0>)\n"
     ]
    }
   ],
   "source": [
    "w = torch.tensor([[0,2,1],[1,3,4]])\n",
    "#x = torch.empty(2, 18)\n",
    "\n",
    "x = torch.index_select(embed_to_hidden_weight, 0, w.flatten())\n",
    "x = x.view(w.shape[0], 18)\n",
    "print(x)\n",
    "\n",
    "# for i,batch in enumerate(w):\n",
    "#     a = torch.index_select(embed_to_hidden_weight, 0, batch)\n",
    "#     x[i,:] = a.view(18)\n",
    "# print(x)\n",
    "\n",
    "# for i,batch in enumerate(w):\n",
    "#     a = torch.index_select(embed_to_hidden_weight, 0, batch)\n",
    "#     x[i,:] = a.flatten()\n",
    "# print(x)"
   ]
  }
 ],
 "metadata": {
  "kernelspec": {
   "display_name": "Python 3 (ipykernel)",
   "language": "python",
   "name": "python3"
  },
  "language_info": {
   "codemirror_mode": {
    "name": "ipython",
    "version": 3
   },
   "file_extension": ".py",
   "mimetype": "text/x-python",
   "name": "python",
   "nbconvert_exporter": "python",
   "pygments_lexer": "ipython3",
   "version": "3.12.11"
  }
 },
 "nbformat": 4,
 "nbformat_minor": 5
}
